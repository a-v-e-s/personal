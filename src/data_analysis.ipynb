{
 "cells": [
  {
   "cell_type": "code",
   "execution_count": null,
   "metadata": {},
   "outputs": [],
   "source": [
    "import matplotlib.pyplot as plt\n",
    "import numpy as np\n",
    "from array import array\n",
    "from get_cursor import get_cursor\n",
    "import statements\n",
    "\n",
    "curs, db = get_cursor('../me.db')"
   ]
  },
  {
   "cell_type": "code",
   "execution_count": null,
   "metadata": {},
   "outputs": [],
   "source": [
    "# get interface to sqlite database, column names\n",
    "info = [curs.execute('pragma table_info(Daily_Functionality);').fetchall()][0]\n",
    "labels = [x[1] for x in info]\n"
   ]
  },
  {
   "cell_type": "code",
   "execution_count": null,
   "metadata": {},
   "outputs": [],
   "source": [
    "columns = {}\n",
    "for a in labels:\n",
    "    columns[a] = curs.execute('select Date, ' + a + ' from Daily_Functionality;').fetchall()\n",
    "\n",
    "# columns is a dictionary \n",
    "# in which values are lists of 420 2-string tuples:\n",
    "# columns[key] = [ 420*(<date_string>, <number_string>) ]\n",
    "# for each key"
   ]
  },
  {
   "cell_type": "code",
   "execution_count": null,
   "metadata": {},
   "outputs": [],
   "source": [
    "dates = [d[0] for d in columns['Date']]\n",
    "for k in columns.keys():\n",
    "    temp_cols = []\n",
    "    for m in range(len(columns[k])):\n",
    "        try:\n",
    "            temp_cols.append(float(columns[k][m][1]))\n",
    "        except (TypeError, ValueError):\n",
    "            pass\n",
    "    #\n",
    "    try:\n",
    "        assert type(temp_cols[1]) == float\n",
    "    except (AssertionError, IndexError):\n",
    "        continue\n",
    "    r = np.array(temp_cols)\n",
    "    print(k + ': ')\n",
    "    fig = plt.figure()\n",
    "    ax = fig.add_axes([0, 0, len(dates)/40, 4])\n",
    "    ax.plot(list(range(len(dates))), r)\n",
    "    ax.set_title(k)\n",
    "    plt.show()\n",
    "    print('\\tAverage:', str(np.average(r)))\n",
    "    print('\\tVariance:', str(r.var()))\n",
    "    print('\\tStandard deviation:', str(r.std()))\n",
    "    #\n",
    "    columns[k] = r"
   ]
  },
  {
   "cell_type": "code",
   "execution_count": null,
   "metadata": {
    "tags": [
     "outputPrepend",
     "outputPrepend",
     "outputPrepend"
    ]
   },
   "outputs": [],
   "source": [
    "for k in columns.keys():\n",
    "    print('\\n=================================================\\n')\n",
    "    print(k.upper())\n",
    "    for j in columns.keys():\n",
    "        if j != k:\n",
    "            try:\n",
    "                # These don't appear to be the functions I want...\n",
    "                print('\\n\\t' + k + ' & ' + j + ' correlation: ' + str(np.corrcoef(columns[k], columns[j])[0][1]))\n",
    "                #print(str(np.correlate(columns[k], columns[j])))\n",
    "                print('\\n\\t' + k + ' & ' + j + ' covariance:' + str(np.cov(columns[k], columns[j])[0][1]))\n",
    "                #print(str(np.cov(columns[k], columns[j])))\n",
    "                print('\\n\\t\\t=====================\\n')\n",
    "            except Exception as e:\n",
    "                print(e)"
   ]
  },
  {
   "cell_type": "code",
   "execution_count": null,
   "metadata": {},
   "outputs": [],
   "source": []
  }
 ],
 "metadata": {
  "language_info": {
   "codemirror_mode": {
    "name": "ipython",
    "version": 3
   },
   "file_extension": ".py",
   "mimetype": "text/x-python",
   "name": "python",
   "nbconvert_exporter": "python",
   "pygments_lexer": "ipython3",
   "version": "3.5.3-final"
  },
  "orig_nbformat": 2,
  "kernelspec": {
   "name": "python35364bit5da6bff6833f44f8b758c1d4ff4b6c28",
   "display_name": "Python 3.5.3 64-bit"
  }
 },
 "nbformat": 4,
 "nbformat_minor": 2
}