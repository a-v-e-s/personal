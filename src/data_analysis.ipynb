{
 "cells": [
  {
   "cell_type": "code",
   "execution_count": null,
   "metadata": {},
   "outputs": [],
   "source": [
    "import matplotlib.pyplot as plt\n",
    "import numpy as np\n",
    "from get_cursor import get_cursor\n",
    "import statements"
   ]
  },
  {
   "cell_type": "code",
   "execution_count": null,
   "metadata": {},
   "outputs": [],
   "source": [
    "curs, db = get_cursor('../me.db')\n",
    "# get interface to sqlite database, column names\n",
    "info = [curs.execute('pragma table_info(Daily_Functionality);').fetchall()][0]\n",
    "labels = [x[1] for x in info]\n",
    "\n",
    "# columns is a dictionary \n",
    "# in which values are lists of 420+ 2-string tuples:\n",
    "# columns[key] = [ 420*(<date_string>, <number_string>) ]\n",
    "# for each key\n",
    "columns = {}\n",
    "for a in labels:\n",
    "    columns[a] = curs.execute('select Date, ' + a + ' from Daily_Functionality;').fetchall()"
   ]
  },
  {
   "cell_type": "code",
   "execution_count": null,
   "metadata": {},
   "outputs": [],
   "source": [
    "# Information regarding the variability of each column in this cell:\n",
    "dates = [d[0] for d in columns['Date']]\n",
    "for k in columns.keys():\n",
    "    temp_cols = []\n",
    "    for m in range(len(columns[k])):\n",
    "        try:\n",
    "            temp_cols.append(float(columns[k][m][1]))\n",
    "        except (TypeError, ValueError):\n",
    "            pass\n",
    "    #\n",
    "    try:\n",
    "        assert type(temp_cols[1]) == float\n",
    "    except (AssertionError, IndexError):\n",
    "        continue\n",
    "    r = np.array(temp_cols)\n",
    "    print(k + ': ')\n",
    "    #fig = plt.figure()\n",
    "    #ax = fig.add_axes([0, 0, len(dates)/40, 4])\n",
    "    #ax.plot(list(range(len(dates))), r)\n",
    "    #ax.set_title(k)\n",
    "    #plt.show()\n",
    "    print('\\tAverage:', str(np.average(r)))\n",
    "    print('\\tVariance:', str(r.var()))\n",
    "    print('\\tStandard deviation:', str(r.std()))\n",
    "    #\n",
    "    columns[k] = r"
   ]
  },
  {
   "cell_type": "code",
   "execution_count": null,
   "metadata": {},
   "outputs": [],
   "source": [
    "# Build list of factors to find relationships for\n",
    "# to find how factor affects cofactor up to 31 days in the future\n",
    "# and how it is affected by cofactor up to 31 days in the past\n",
    "factors = labels[9:20]\n",
    "factors.append(labels[5])\n",
    "relationships = {}\n",
    "for factor in factors:\n",
    "    # a dictionary of dictionaries\n",
    "    relationships[factor] = {}\n",
    "    for cofactor in columns.keys():\n",
    "        if cofactor not in [factor, 'Over_Extending', 'Notes', 'Date', 'Weekday']:\n",
    "            # with each sub-dictionary referring to a list of correlation coefficients\n",
    "            relationships[factor][cofactor] = []\n",
    "            # the time range:\n",
    "            min_ = -31\n",
    "            max_ = 31\n",
    "            for time_delta in range(min_, max_+1):\n",
    "                index = 0\n",
    "                temp = []\n",
    "                try:\n",
    "                    # for every day of distance we shorten the length data we use\n",
    "                    # from the cofactor's column:\n",
    "                    for c in range(len(columns[cofactor])-abs(time_delta)):\n",
    "                        if time_delta < 0:\n",
    "                            # day is negative, last $day number of cofactor values are excluded\n",
    "                            # because $factor is dependent variable\n",
    "                            temp.append(columns[cofactor][index])\n",
    "                        else:\n",
    "                            # day is positive, first $day number of cofactor values are excluded\n",
    "                            # because $cofactor is dependent variable\n",
    "                            temp.append(columns[cofactor][index+time_delta])\n",
    "                        index += 1\n",
    "                except IndexError as e:\n",
    "                    print(e)\n",
    "                # arrays are faster than lists\n",
    "                vals = np.array(temp)\n",
    "                if time_delta <= 0:\n",
    "                    # we take the first $day number of values off of factor's column\n",
    "                    correlation = np.corrcoef(columns[factor][abs(time_delta):], vals)[0][1]\n",
    "                else:\n",
    "                    # we take the last $day number of values off of factor's column\n",
    "                    correlation = np.corrcoef(columns[factor][:-time_delta], vals)[0][1]\n",
    "                relationships[factor][cofactor].append(correlation)\n"
   ]
  },
  {
   "cell_type": "code",
   "execution_count": null,
   "metadata": {},
   "outputs": [],
   "source": [
    "for factor in relationships.keys():\n",
    "    for cofactor in relationships[factor].keys():\n",
    "        already_titled = False\n",
    "        index = 0\n",
    "        for value in relationships[factor][cofactor]:\n",
    "            if value > .2 and value < .3:\n",
    "                if not already_titled:\n",
    "                    print('factor:', factor)\n",
    "                    print('cofactor:', cofactor)\n",
    "                    already_titled = True\n",
    "                print('index, value:', str(index), value)\n",
    "            index += 1\n"
   ]
  },
  {
   "cell_type": "code",
   "execution_count": null,
   "metadata": {},
   "outputs": [],
   "source": [
    "\"\"\"\n",
    "for factor in relationships.keys():\n",
    "    num = 0\n",
    "    for cofactor in relationships[factor]:\n",
    "        fig = plt.figure()\n",
    "        ax = fig.add_axes([0, 0, max_/5, 1])\n",
    "        ax.set_title('Correlation Over Time')\n",
    "        ax.set_xlabel('Days Between Cofactor ' + cofactor + ' and ' + factor)\n",
    "        ax.set_ylabel('Correlation Coefficient * 100:')\n",
    "        try:\n",
    "            thyme = list(range(min_, max_+1))\n",
    "            assert thyme == len(relationships[factor][cofactor])\n",
    "        except AssertionError as e:\n",
    "            print(e)\n",
    "            print('thyme not equal to length of relationships[factor][cofactor]')\n",
    "            print('len(thyme):', len(thyme))\n",
    "            print('len(relationships[factor][cofactor]):', len(relationships[factor][cofactor]))\n",
    "        values = [100*value for value in relationships[factor][cofactor]]\n",
    "        ax.plot(thyme, relationships[factor][cofactor])\n",
    "        plt.savefig()\n",
    "\"\"\"\n",
    "factor = 'Total_Vices'\n",
    "cofactor = 'Total_Work'\n",
    "fig = plt.figure()\n",
    "ax = fig.add_axes([0, 0, max_/5, 1])\n",
    "ax.set_title('Factor: Total_Vices; Cofactor: Total_Work')\n",
    "ax.set_xlabel('Days between Factor and Cofactor')\n",
    "ax.set_ylabel('Correlation Coefficient * 100')\n",
    "thyme = list(range(min_, max_+1))\n",
    "values = [100*value for value in relationships[factor][cofactor]]\n",
    "ax.plot(thyme, values)\n"
   ]
  },
  {
   "cell_type": "code",
   "execution_count": null,
   "metadata": {},
   "outputs": [],
   "source": [
    "# Section on fourier transformations to find out what my \"cycle\" really is."
   ]
  },
  {
   "cell_type": "code",
   "execution_count": null,
   "metadata": {},
   "outputs": [],
   "source": [
    "# commit any transactions, close db connections:\n",
    "#db.commit()\n",
    "curs.close(); db.close()"
   ]
  }
 ],
 "metadata": {
  "language_info": {
   "codemirror_mode": {
    "name": "ipython",
    "version": 3
   },
   "file_extension": ".py",
   "mimetype": "text/x-python",
   "name": "python",
   "nbconvert_exporter": "python",
   "pygments_lexer": "ipython3",
   "version": "3.5.3-final"
  },
  "orig_nbformat": 2,
  "kernelspec": {
   "name": "python35364bit5da6bff6833f44f8b758c1d4ff4b6c28",
   "display_name": "Python 3.5.3 64-bit"
  }
 },
 "nbformat": 4,
 "nbformat_minor": 2
}